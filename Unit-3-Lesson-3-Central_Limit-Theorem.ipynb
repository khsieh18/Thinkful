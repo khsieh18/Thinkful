{
 "cells": [
  {
   "cell_type": "code",
   "execution_count": 9,
   "metadata": {},
   "outputs": [],
   "source": [
    "import numpy as np\n",
    "import pandas as pd\n",
    "import scipy\n",
    "import matplotlib.pyplot as plt\n",
    "%matplotlib inline"
   ]
  },
  {
   "cell_type": "code",
   "execution_count": 39,
   "metadata": {},
   "outputs": [],
   "source": [
    "def popu(p1):\n",
    "    pop1 = np.random.binomial(10,p1,10000)\n",
    "    pop2 = np.random.binomial(10,0.5,10000)\n",
    "    #lt.hist(pop1, alpha=0.5, label='Population 1')\n",
    "    #lt.hist(pop2, alpha=0.5, label='Population 2')\n",
    "    #lt.legend(loc='upper right')\n",
    "    pop1_mean = pop1.mean()\n",
    "    pop2_mean = pop2.mean()\n",
    "    print(\"Population 1 mean = \", pop1.mean())\n",
    "    print(\"Population 2 mean = \", pop2.mean())\n",
    "    print(\"Population 1 std = \", pop1.std())\n",
    "    print(\"Population 2 std = \", pop2.std())"
   ]
  },
  {
   "cell_type": "code",
   "execution_count": 40,
   "metadata": {},
   "outputs": [
    {
     "name": "stdout",
     "output_type": "stream",
     "text": [
      "Population 1 mean =  2.0047\n",
      "Population 2 mean =  4.9719\n",
      "Population 1 std =  1.2842421539569553\n",
      "Population 2 std =  1.5980958638329554\n"
     ]
    }
   ],
   "source": [
    "p1=0.2\n",
    "popu(p1)"
   ]
  },
  {
   "cell_type": "code",
   "execution_count": 41,
   "metadata": {},
   "outputs": [],
   "source": [
    "def sampling(size):\n",
    "    sample1 = np.random.choice(pop1, size, replace=True)\n",
    "    sample2 = np.random.choice(pop2, size, replace=True)\n",
    "    plt.hist(sample1, alpha=0.5, label='sample 1')\n",
    "    plt.hist(sample2, alpha=0.5, label='sample 2')\n",
    "    plt.legend(loc='upper right')\n",
    "    print(\"sample 1 mean = \", sample1.mean())\n",
    "    print(\"sample 2 mean = \", sample2.mean())\n",
    "    print(\"sample 1 std = \", sample1.std())\n",
    "    print(\"sample 2 std = \", sample2.std())\n",
    "    print(\"mean difference (pop1-sample1) = \", pop1_mean-sample1.mean())\n",
    "    print(\"mean difference (pop2-sample2) = \", pop2_mean-sample2.mean())"
   ]
  },
  {
   "cell_type": "code",
   "execution_count": 42,
   "metadata": {},
   "outputs": [
    {
     "name": "stdout",
     "output_type": "stream",
     "text": [
      "sample 1 mean =  1.93\n",
      "sample 2 mean =  4.77\n",
      "sample 1 std =  1.3435400998853737\n",
      "sample 2 std =  1.4618823482072694\n",
      "mean difference (pop1-sample1) =  0.06920000000000015\n",
      "mean difference (pop2-sample2) =  0.2353000000000005\n"
     ]
    },
    {
     "data": {
      "image/png": "[encoded data removed]",
      "text/plain": [
       "<Figure size 432x288 with 1 Axes>"
      ]
     },
     "metadata": {},
     "output_type": "display_data"
    }
   ],
   "source": [
    "sample_size=100\n",
    "sampling(sample_size)"
   ]
  },
  {
   "cell_type": "markdown",
   "metadata": {},
   "source": [
    "<font color=green>1.Increase the size of your samples from 100 to 1000, then calculate the means and standard deviations for your new samples and create histograms for each. Repeat this again, decreasing the size of your samples to 20. What values change, and what remain the same?</font>"
   ]
  },
  {
   "cell_type": "code",
   "execution_count": 43,
   "metadata": {},
   "outputs": [
    {
     "name": "stdout",
     "output_type": "stream",
     "text": [
      "sample 1 mean =  2.032\n",
      "sample 2 mean =  4.984\n",
      "sample 1 std =  1.3270177090001474\n",
      "sample 2 std =  1.5772583808621845\n",
      "mean difference (pop1-sample1) =  -0.03279999999999994\n",
      "mean difference (pop2-sample2) =  0.021300000000000097\n"
     ]
    },
    {
     "data": {
      "image/png": "[encoded data removed]",
      "text/plain": [
       "<Figure size 432x288 with 1 Axes>"
      ]
     },
     "metadata": {},
     "output_type": "display_data"
    }
   ],
   "source": [
    "#increase sample size to 1000\n",
    "sample_size=1000\n",
    "sampling(sample_size)"
   ]
  },
  {
   "cell_type": "code",
   "execution_count": 44,
   "metadata": {},
   "outputs": [
    {
     "name": "stdout",
     "output_type": "stream",
     "text": [
      "sample 1 mean =  1.65\n",
      "sample 2 mean =  4.9\n",
      "sample 1 std =  1.061838029079765\n",
      "sample 2 std =  1.3379088160259651\n",
      "mean difference (pop1-sample1) =  0.3492000000000002\n",
      "mean difference (pop2-sample2) =  0.10529999999999973\n"
     ]
    },
    {
     "data": {
      "image/png": "[encoded data removed]",
      "text/plain": [
       "<Figure size 432x288 with 1 Axes>"
      ]
     },
     "metadata": {},
     "output_type": "display_data"
    }
   ],
   "source": [
    "#decrease sample size to 20\n",
    "sample_size=20\n",
    "sampling(sample_size)"
   ]
  },
  {
   "cell_type": "markdown",
   "metadata": {},
   "source": [
    "<font color=green>2.Change the probability value (p in the NumPy documentation) for pop1 to 0.3, then take new samples and compute the t-statistic and p-value. Then change the probability value p for group 1 to 0.4, and do it again. What changes, and why?</font>"
   ]
  },
  {
   "cell_type": "code",
   "execution_count": 45,
   "metadata": {},
   "outputs": [
    {
     "name": "stdout",
     "output_type": "stream",
     "text": [
      "Population 1 mean =  3.0026\n",
      "Population 2 mean =  4.9984\n",
      "Population 1 std =  1.4463724416622437\n",
      "Population 2 std =  1.5859374010344798\n",
      "sample 1 mean =  2.3\n",
      "sample 2 mean =  5.14\n",
      "sample 1 std =  1.3820274961085255\n",
      "sample 2 std =  1.523285921946369\n",
      "mean difference (pop1-sample1) =  -0.30079999999999973\n",
      "mean difference (pop2-sample2) =  -0.1346999999999996\n",
      "Ttest_indResult(statistic=15.585659536112871, pvalue=2.085826191456998e-35)\n"
     ]
    },
    {
     "data": {
      "image/png": "[encoded data removed]",
      "text/plain": [
       "<Figure size 432x288 with 1 Axes>"
      ]
     },
     "metadata": {},
     "output_type": "display_data"
    }
   ],
   "source": [
    "p1=0.3\n",
    "popu(p1)\n",
    "sample_size=100\n",
    "sampling(sample_size)\n",
    "from scipy.stats import ttest_ind\n",
    "print(ttest_ind(sample2, sample1, equal_var=False))"
   ]
  },
  {
   "cell_type": "code",
   "execution_count": 46,
   "metadata": {},
   "outputs": [
    {
     "name": "stdout",
     "output_type": "stream",
     "text": [
      "Population 1 mean =  4.0214\n",
      "Population 2 mean =  4.9753\n",
      "Population 1 std =  1.550916516128447\n",
      "Population 2 std =  1.5899968270408593\n",
      "sample 1 mean =  1.73\n",
      "sample 2 mean =  4.97\n",
      "sample 1 std =  1.2071039723238424\n",
      "sample 2 std =  1.4996999699939986\n",
      "mean difference (pop1-sample1) =  0.2692000000000001\n",
      "mean difference (pop2-sample2) =  0.03530000000000033\n",
      "Ttest_indResult(statistic=15.585659536112871, pvalue=2.085826191456998e-35)\n"
     ]
    },
    {
     "data": {
      "image/png": "[encoded data removed]",
      "text/plain": [
       "<Figure size 432x288 with 1 Axes>"
      ]
     },
     "metadata": {},
     "output_type": "display_data"
    }
   ],
   "source": [
    "p1=0.4\n",
    "popu(p1)\n",
    "sample_size=100\n",
    "sampling(sample_size)\n",
    "from scipy.stats import ttest_ind\n",
    "print(ttest_ind(sample2, sample1, equal_var=False))"
   ]
  },
  {
   "cell_type": "markdown",
   "metadata": {},
   "source": [
    "<font color=green>3.Change the distribution of your populations from binomial to a distribution of your choice. Do the sample mean values still accurately represent the population values?</font>"
   ]
  },
  {
   "cell_type": "code",
   "execution_count": 47,
   "metadata": {},
   "outputs": [],
   "source": [
    "#Yes. The sample size is what influences the sample mean, not the distribution type."
   ]
  },
  {
   "cell_type": "code",
   "execution_count": null,
   "metadata": {},
   "outputs": [],
   "source": []
  }
 ],
 "metadata": {
  "kernelspec": {
   "display_name": "Python 3",
   "language": "python",
   "name": "python3"
  },
  "language_info": {
   "codemirror_mode": {
    "name": "ipython",
    "version": 3
   },
   "file_extension": ".py",
   "mimetype": "text/x-python",
   "name": "python",
   "nbconvert_exporter": "python",
   "pygments_lexer": "ipython3",
   "version": "3.7.0"
  }
 },
 "nbformat": 4,
 "nbformat_minor": 2
}
