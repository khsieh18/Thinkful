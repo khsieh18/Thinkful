{
 "cells": [
  {
   "cell_type": "markdown",
   "metadata": {},
   "source": [
    "# I. Data"
   ]
  },
  {
   "cell_type": "markdown",
   "metadata": {},
   "source": [
    "### This dataset is obtained from Kaggle dataset collections and was originally from the open-source Global Terrorism Database (GTD). It includes information on terrorist attacks around the world from 1970 through 2017, and contains 135 labeled data. The database is currently maintained by researchers at the National Consortium for the Study of Terrorism and Responses to Terrorism (START), headquartered at the University of Maryland. The definition of terrorism for this dataset is as follows: \"the threatened or actual use of illegal force and violence by a non-state actor to attain a political, economic, religious, or social goal through fear, coercion, or intimidation.\""
   ]
  },
  {
   "cell_type": "markdown",
   "metadata": {},
   "source": [
    "### There are more and more terrorist attacks in recent years around the World. If data scientists can utilize machine learning algorithms to predict the next terrorist attacks before they actually happen, that will save a lot of lives. General populations can use the statistical result when planning their trips to different locations around the World. Government can also use the results to forcast or alert citizens about the possibilities of future terrorist attacks."
   ]
  },
  {
   "cell_type": "code",
   "execution_count": 50,
   "metadata": {},
   "outputs": [],
   "source": [
    "import numpy as np \n",
    "import pandas as pd\n",
    "import matplotlib.pyplot as plt\n",
    "%matplotlib inline"
   ]
  },
  {
   "cell_type": "code",
   "execution_count": 51,
   "metadata": {},
   "outputs": [
    {
     "data": {
      "text/html": [
       "<div>\n",
       "<style scoped>\n",
       "    .dataframe tbody tr th:only-of-type {\n",
       "        vertical-align: middle;\n",
       "    }\n",
       "\n",
       "    .dataframe tbody tr th {\n",
       "        vertical-align: top;\n",
       "    }\n",
       "\n",
       "    .dataframe thead th {\n",
       "        text-align: right;\n",
       "    }\n",
       "</style>\n",
       "<table border=\"1\" class=\"dataframe\">\n",
       "  <thead>\n",
       "    <tr style=\"text-align: right;\">\n",
       "      <th></th>\n",
       "      <th>eventid</th>\n",
       "      <th>iyear</th>\n",
       "      <th>imonth</th>\n",
       "      <th>iday</th>\n",
       "      <th>approxdate</th>\n",
       "      <th>extended</th>\n",
       "      <th>resolution</th>\n",
       "      <th>country</th>\n",
       "      <th>country_txt</th>\n",
       "      <th>region</th>\n",
       "      <th>...</th>\n",
       "      <th>addnotes</th>\n",
       "      <th>scite1</th>\n",
       "      <th>scite2</th>\n",
       "      <th>scite3</th>\n",
       "      <th>dbsource</th>\n",
       "      <th>INT_LOG</th>\n",
       "      <th>INT_IDEO</th>\n",
       "      <th>INT_MISC</th>\n",
       "      <th>INT_ANY</th>\n",
       "      <th>related</th>\n",
       "    </tr>\n",
       "  </thead>\n",
       "  <tbody>\n",
       "    <tr>\n",
       "      <th>0</th>\n",
       "      <td>197000000001</td>\n",
       "      <td>1970</td>\n",
       "      <td>7</td>\n",
       "      <td>2</td>\n",
       "      <td>NaN</td>\n",
       "      <td>0</td>\n",
       "      <td>NaN</td>\n",
       "      <td>58</td>\n",
       "      <td>Dominican Republic</td>\n",
       "      <td>2</td>\n",
       "      <td>...</td>\n",
       "      <td>NaN</td>\n",
       "      <td>NaN</td>\n",
       "      <td>NaN</td>\n",
       "      <td>NaN</td>\n",
       "      <td>PGIS</td>\n",
       "      <td>0</td>\n",
       "      <td>0</td>\n",
       "      <td>0</td>\n",
       "      <td>0</td>\n",
       "      <td>NaN</td>\n",
       "    </tr>\n",
       "  </tbody>\n",
       "</table>\n",
       "<p>1 rows × 135 columns</p>\n",
       "</div>"
      ],
      "text/plain": [
       "        eventid  iyear  imonth  iday approxdate  extended resolution  country  \\\n",
       "0  197000000001   1970       7     2        NaN         0        NaN       58   \n",
       "\n",
       "          country_txt  region   ...    addnotes scite1 scite2  scite3  \\\n",
       "0  Dominican Republic       2   ...         NaN    NaN    NaN     NaN   \n",
       "\n",
       "   dbsource  INT_LOG  INT_IDEO INT_MISC INT_ANY  related  \n",
       "0      PGIS        0         0        0       0      NaN  \n",
       "\n",
       "[1 rows x 135 columns]"
      ]
     },
     "execution_count": 51,
     "metadata": {},
     "output_type": "execute_result"
    }
   ],
   "source": [
    "# Read the dataset\n",
    "df = pd.read_csv('globalterrorismdb_0718dist.csv', encoding='ISO-8859-1', low_memory=False)\n",
    "df.head(1)"
   ]
  },
  {
   "cell_type": "code",
   "execution_count": 52,
   "metadata": {},
   "outputs": [
    {
     "data": {
      "text/plain": [
       "(181691, 135)"
      ]
     },
     "execution_count": 52,
     "metadata": {},
     "output_type": "execute_result"
    }
   ],
   "source": [
    "# Examine the size of the dataset\n",
    "df.shape"
   ]
  },
  {
   "cell_type": "markdown",
   "metadata": {},
   "source": [
    "### This dataset contains many information about historical terrorist attacks. There are 135 data field in total. We will only extract the data field that will be used to answer our three main analytical questions."
   ]
  },
  {
   "cell_type": "code",
   "execution_count": 53,
   "metadata": {},
   "outputs": [],
   "source": [
    "# Select the data field we need for this analysis\n",
    "df = df[['iyear','imonth','iday','country_txt','region_txt',\n",
    "         'suicide','attacktype1_txt','targtype1_txt','gname','provstate',\n",
    "         'city','latitude','longitude','natlty1_txt' \n",
    "        ]]"
   ]
  },
  {
   "cell_type": "markdown",
   "metadata": {},
   "source": [
    "### The dataset contains non-typical label names. We will rename those fields in our Pandas data frame."
   ]
  },
  {
   "cell_type": "code",
   "execution_count": 54,
   "metadata": {},
   "outputs": [],
   "source": [
    "# Rename the name of the selected columns \n",
    "df.rename(columns={\n",
    "    'iyear':'Year', 'imonth':'Month','iday':'Day','country_txt':'Country','region_txt':'Region',\n",
    "    'suicide':'Suicide', 'attacktype1_txt':'Attack', 'targtype1_txt':'Target', 'gname':'Group','provstate':'State',\n",
    "    'city':'City', 'latitude':'Latitude', 'longitude':'Longitude', 'natlty1_txt':'Nationality'\n",
    "},inplace=True)"
   ]
  },
  {
   "cell_type": "code",
   "execution_count": 55,
   "metadata": {
    "scrolled": true
   },
   "outputs": [
    {
     "data": {
      "text/plain": [
       "Year              0\n",
       "Month             0\n",
       "Day               0\n",
       "Country           0\n",
       "Region            0\n",
       "Suicide           0\n",
       "Attack            0\n",
       "Target            0\n",
       "Group             0\n",
       "State           421\n",
       "City            434\n",
       "Nationality    1559\n",
       "Latitude       4556\n",
       "Longitude      4557\n",
       "dtype: int64"
      ]
     },
     "execution_count": 55,
     "metadata": {},
     "output_type": "execute_result"
    }
   ],
   "source": [
    "# Check the empty data amount in the newly created data frame\n",
    "df.isnull().sum().sort_values()"
   ]
  },
  {
   "cell_type": "markdown",
   "metadata": {},
   "source": [
    "# II. Analytic Questions"
   ]
  },
  {
   "cell_type": "markdown",
   "metadata": {},
   "source": [
    "## 1. Does terrorist attacks increase over the years from 1970 to 2017?"
   ]
  },
  {
   "cell_type": "code",
   "execution_count": 56,
   "metadata": {
    "scrolled": false
   },
   "outputs": [
    {
     "data": {
      "text/plain": [
       "Text(0,0.5,'Terrorist Attack Counts')"
      ]
     },
     "execution_count": 56,
     "metadata": {},
     "output_type": "execute_result"
    },
    {
     "data": {
      "image/png": "[encoded data removed]",
      "text/plain": [
       "<Figure size 1080x432 with 1 Axes>"
      ]
     },
     "metadata": {},
     "output_type": "display_data"
    }
   ],
   "source": [
    "df['Year'].value_counts(sort=False).plot(kind='bar',figsize=(15,6))\n",
    "plt.title('Number of Terrorist Attacks by Year')\n",
    "plt.ylabel('Terrorist Attack Counts')"
   ]
  },
  {
   "cell_type": "markdown",
   "metadata": {},
   "source": [
    "### The terrorist attacks increase over the years from 1970 to 2017. The number of terrorist attacks in recent 6 years have way more than those years before 2011. The attack incidient number reaches to the maximum at year 2014 and slowly drops down over the years to 2017. This decrease might be due to reinforcement of intelligence systems around the World."
   ]
  },
  {
   "cell_type": "markdown",
   "metadata": {},
   "source": [
    "### Let's see if the US follows the same trend as the total number of terrorist attacks around the World."
   ]
  },
  {
   "cell_type": "code",
   "execution_count": 57,
   "metadata": {},
   "outputs": [],
   "source": [
    "df_USA = df[df.Country == 'United States']"
   ]
  },
  {
   "cell_type": "code",
   "execution_count": 58,
   "metadata": {
    "scrolled": true
   },
   "outputs": [
    {
     "data": {
      "text/plain": [
       "(2836, 14)"
      ]
     },
     "execution_count": 58,
     "metadata": {},
     "output_type": "execute_result"
    }
   ],
   "source": [
    "df_USA.shape"
   ]
  },
  {
   "cell_type": "code",
   "execution_count": 59,
   "metadata": {},
   "outputs": [
    {
     "data": {
      "text/plain": [
       "9"
      ]
     },
     "execution_count": 59,
     "metadata": {},
     "output_type": "execute_result"
    }
   ],
   "source": [
    "# Check the number of null data in Nationality column\n",
    "df_USA['Nationality'].isnull().sum()"
   ]
  },
  {
   "cell_type": "markdown",
   "metadata": {},
   "source": [
    "### We will drop rows with null Nationality data since the number of the missing value is insignificant compared to the overall df_USA data size."
   ]
  },
  {
   "cell_type": "code",
   "execution_count": 60,
   "metadata": {},
   "outputs": [],
   "source": [
    "df_USA = df_USA.dropna(subset=['Nationality'],inplace=False)"
   ]
  },
  {
   "cell_type": "code",
   "execution_count": 61,
   "metadata": {},
   "outputs": [
    {
     "data": {
      "text/plain": [
       "Text(0,0.5,'Attacks Count')"
      ]
     },
     "execution_count": 61,
     "metadata": {},
     "output_type": "execute_result"
    },
    {
     "data": {
      "image/png": "[encoded data removed]",
      "text/plain": [
       "<Figure size 1080x432 with 1 Axes>"
      ]
     },
     "metadata": {},
     "output_type": "display_data"
    }
   ],
   "source": [
    "df_USA['Year'].value_counts(sort=False).sort_index().plot(kind='bar',figsize=(15,6))\n",
    "plt.title('Number of Terrorist Attacks in USA by Year')\n",
    "plt.xlabel('Year')\n",
    "plt.ylabel('Attacks Count')"
   ]
  },
  {
   "cell_type": "markdown",
   "metadata": {},
   "source": [
    "### USA has dramatically reduced the number of terrorist attacks over the years since 1970. Year 1970 and 1971 has way more terrorist incidence than the years after 1972. The 1970s were a tumultuous time in the US. There were numerous Anti- Vietnam War protests, and Women, African Americans, Native Americans, gays and lesbians continued to fight for their equality. This might be the cause of such high number of terrorsit attacks in year 1970 and 1971. We can verify this assumption by validating if most of the terrorist attacks in the US for year 1970 and 1971 are from inland. "
   ]
  },
  {
   "cell_type": "code",
   "execution_count": 62,
   "metadata": {
    "scrolled": false
   },
   "outputs": [
    {
     "data": {
      "text/plain": [
       "Text(0,0.5,'Attacks Count')"
      ]
     },
     "execution_count": 62,
     "metadata": {},
     "output_type": "execute_result"
    },
    {
     "data": {
      "image/png": "[encoded data removed]",
      "text/plain": [
       "<Figure size 1080x432 with 1 Axes>"
      ]
     },
     "metadata": {},
     "output_type": "display_data"
    }
   ],
   "source": [
    "df_USA['Year'][(df_USA.Country == df_USA.Nationality)].value_counts().sort_index().plot(\n",
    "    kind='bar', figsize=(15,6), color='red', label=\"Domestic Terrorist Attack\", width=0.2,position=1)\n",
    "df_USA['Year'][(df_USA.Country != df_USA.Nationality)].value_counts().sort_index().plot(\n",
    "    kind='bar', figsize=(15,6), color='blue', label=\"Foreign Terrorist Attack\",width=0.2,position=0)\n",
    "plt.legend()\n",
    "plt.title('Domestic vs Foreign Terrorist Attacks in the US')\n",
    "plt.xlabel('Year')\n",
    "plt.ylabel('Attacks Count')"
   ]
  },
  {
   "cell_type": "markdown",
   "metadata": {},
   "source": [
    "### Look into all the terrorist attacks happened in the United States between 1970 and 2017. If the terrorist' nationality is the United States, we can catogorize this attack as domestic. and if his/her nationality is not the United States, we can categorize this attack as foreign. From the bar chart above, we can tell the main source of terrorist attacks happened in the US is from inland. For the extemely high number of attacks in year 1970 and 1971, we can also conclude that the main reason is due to the domestic protest and fighting for human right."
   ]
  },
  {
   "cell_type": "markdown",
   "metadata": {},
   "source": [
    "## 2. Does geographical location play a role in terrorist attacks between 1970 and 2017?"
   ]
  },
  {
   "cell_type": "code",
   "execution_count": 63,
   "metadata": {},
   "outputs": [
    {
     "data": {
      "text/plain": [
       "Text(0,0.5,'Attacks Count')"
      ]
     },
     "execution_count": 63,
     "metadata": {},
     "output_type": "execute_result"
    },
    {
     "data": {
      "image/png": "[encoded data removed]",
      "text/plain": [
       "<Figure size 1080x216 with 1 Axes>"
      ]
     },
     "metadata": {},
     "output_type": "display_data"
    }
   ],
   "source": [
    "df['Region'].value_counts(sort=True).plot(kind='bar',figsize=(15,3))\n",
    "plt.title('Regions with most Terrorist Attacks')\n",
    "plt.ylabel('Attacks Count')"
   ]
  },
  {
   "cell_type": "markdown",
   "metadata": {},
   "source": [
    "### Two regions - i.e., 'Middle East & North Africa' and 'South Asia' have had the most terrorist attacks compared to the rest of the World."
   ]
  },
  {
   "cell_type": "code",
   "execution_count": 64,
   "metadata": {
    "scrolled": false
   },
   "outputs": [
    {
     "data": {
      "text/plain": [
       "Text(0,0.5,'Attacks Count')"
      ]
     },
     "execution_count": 64,
     "metadata": {},
     "output_type": "execute_result"
    },
    {
     "data": {
      "image/png": "[encoded data removed]",
      "text/plain": [
       "<Figure size 1080x216 with 1 Axes>"
      ]
     },
     "metadata": {},
     "output_type": "display_data"
    }
   ],
   "source": [
    "df['Country'].value_counts(sort=True).head(10).plot(kind='bar',figsize=(15,3))\n",
    "plt.title('Countries with most Terrorist Attacks')\n",
    "plt.ylabel('Attacks Count')"
   ]
  },
  {
   "cell_type": "markdown",
   "metadata": {},
   "source": [
    "### Not supringly, the top four countries which have the most terroist attacks all reside in the top two regions."
   ]
  },
  {
   "cell_type": "markdown",
   "metadata": {},
   "source": [
    "## 3. Does the seasons affect the occurance of terrorist attacks between 1970 and 2017?"
   ]
  },
  {
   "cell_type": "markdown",
   "metadata": {},
   "source": [
    "### Studies have shown that hot temperatures make people uncomforable and irriated, which makes them more aggressive. Let's see if this statement is applicable to our dataset analysis. Since northern and southen hemisphere countires have different seasons  during the year, we will first categorize each terrorist attack as northern and southern hemisphere location based on their latitude, and then create a \"Season\" data field based on each specific month."
   ]
  },
  {
   "cell_type": "code",
   "execution_count": 65,
   "metadata": {},
   "outputs": [],
   "source": [
    "df.drop(df[df.Month==0].index,inplace=True)"
   ]
  },
  {
   "cell_type": "code",
   "execution_count": 66,
   "metadata": {},
   "outputs": [],
   "source": [
    "df['Season']=''"
   ]
  },
  {
   "cell_type": "code",
   "execution_count": 67,
   "metadata": {},
   "outputs": [],
   "source": [
    "# Northern Hemisphere Seasons\n",
    "df.loc[(df.Latitude > 0) & ((df.Month==9) | (df.Month==10) | (df.Month==11)), 'Season'] = 'Fall'\n",
    "df.loc[(df.Latitude > 0) & ((df.Month==12) | (df.Month==1) | (df.Month==2)), 'Season'] = 'Winter'\n",
    "df.loc[(df.Latitude > 0) & ((df.Month==3) | (df.Month==4) | (df.Month==5)), 'Season'] = 'Spring'\n",
    "df.loc[(df.Latitude > 0) & ((df.Month==6) | (df.Month==7) | (df.Month==8)), 'Season'] = 'Summer'"
   ]
  },
  {
   "cell_type": "code",
   "execution_count": 68,
   "metadata": {},
   "outputs": [],
   "source": [
    "# Southern Hemisphere Seasons\n",
    "df.loc[(df.Latitude < 0) & ((df.Month==9) | (df.Month==10) | (df.Month==11)), 'Season'] = 'Spring'\n",
    "df.loc[(df.Latitude < 0) & ((df.Month==12) | (df.Month==1) | (df.Month==2)), 'Season'] = 'Summer'\n",
    "df.loc[(df.Latitude < 0) & ((df.Month==3) | (df.Month==4) | (df.Month==5)), 'Season'] = 'Fall'\n",
    "df.loc[(df.Latitude < 0) & ((df.Month==6) | (df.Month==7) | (df.Month==8)), 'Season'] = 'Winter'"
   ]
  },
  {
   "cell_type": "code",
   "execution_count": 69,
   "metadata": {},
   "outputs": [],
   "source": [
    "# Set the Latitude to 0 if latitude data is empty.\n",
    "df.loc[(df.Season==''),'Latitude']=0"
   ]
  },
  {
   "cell_type": "code",
   "execution_count": 70,
   "metadata": {},
   "outputs": [],
   "source": [
    "# Drop the countries without Latitude data and located at equator for this analysis.\n",
    "df = df.drop(df[(df.Latitude == 0)&(df.Country=='Indonesia')].index,inplace=False)\n",
    "df = df.drop(df[(df.Latitude == 0)&(df.Country==\"Maldives\")].index,inplace=False)\n",
    "df = df.drop(df[(df.Latitude == 0)&(df.Country==\"Kiribati\")].index,inplace=False)\n",
    "df = df.drop(df[(df.Latitude == 0)&(df.Country==\"Somalia\")].index,inplace=False)\n",
    "df = df.drop(df[(df.Latitude == 0)&(df.Country=='Gabon')].index,inplace=False)\n",
    "df = df.drop(df[(df.Latitude == 0)&(df.Country==\"People's Republic of the Congo\")].index,inplace=False)\n",
    "df = df.drop(df[(df.Latitude == 0)&(df.Country==\"Republic of the Congo\")].index,inplace=False)\n",
    "df = df.drop(df[(df.Latitude == 0)&(df.Country==\"Democratic Republic of the Congo\")].index,inplace=False)\n",
    "df = df.drop(df[(df.Latitude == 0)&(df.Country==\"Uganda\")].index,inplace=False)\n",
    "df = df.drop(df[(df.Latitude == 0)&(df.Country==\"Kenya\")].index,inplace=False)\n",
    "df = df.drop(df[(df.Latitude == 0)&(df.Country==\"Brazil\")].index,inplace=False)\n",
    "df = df.drop(df[(df.Latitude == 0)&(df.Country==\"Colombia\")].index,inplace=False)\n",
    "df = df.drop(df[(df.Latitude == 0)&(df.Country==\"Equador\")].index,inplace=False)"
   ]
  },
  {
   "cell_type": "code",
   "execution_count": 71,
   "metadata": {},
   "outputs": [],
   "source": [
    "df.loc[(df.Latitude == 0) & ((df.Month==9) | (df.Month==10) | (df.Month==11)), 'Season'] = 'Fall'\n",
    "df.loc[(df.Latitude == 0) & ((df.Month==12) | (df.Month==1) | (df.Month==2)), 'Season'] = 'Winter'\n",
    "df.loc[(df.Latitude == 0) & ((df.Month==3) | (df.Month==4) | (df.Month==5)), 'Season'] = 'Spring'\n",
    "df.loc[(df.Latitude == 0) & ((df.Month==6) | (df.Month==7) | (df.Month==8)), 'Season'] = 'Summer'"
   ]
  },
  {
   "cell_type": "code",
   "execution_count": 72,
   "metadata": {},
   "outputs": [],
   "source": [
    "df.loc[(df.Region == 'South America')|(df.Region == 'Sub-Saharan Africa')|(df.Region == 'Australasia & Oceania') & ((df.Month==9) | (df.Month==10) | (df.Month==11)), 'Season'] = 'Spring'\n",
    "df.loc[(df.Region == 'South America')|(df.Region == 'Sub-Saharan Africa')|(df.Region == 'Australasia & Oceania') & ((df.Month==12) | (df.Month==1) | (df.Month==2)), 'Season'] = 'Summer'\n",
    "df.loc[(df.Region == 'South America')|(df.Region == 'Sub-Saharan Africa')|(df.Region == 'Australasia & Oceania') & ((df.Month==3) | (df.Month==4) | (df.Month==5)), 'Season'] = 'Fall'\n",
    "df.loc[(df.Region == 'South America')|(df.Region == 'Sub-Saharan Africa')|(df.Region == 'Australasia & Oceania') & ((df.Month==6) | (df.Month==7) | (df.Month==8)), 'Season'] = 'Winter'"
   ]
  },
  {
   "cell_type": "code",
   "execution_count": 73,
   "metadata": {},
   "outputs": [
    {
     "data": {
      "text/plain": [
       "Text(0,0.5,'Attacks Count')"
      ]
     },
     "execution_count": 73,
     "metadata": {},
     "output_type": "execute_result"
    },
    {
     "data": {
      "image/png": "[encoded data removed]",
      "text/plain": [
       "<Figure size 1080x432 with 1 Axes>"
      ]
     },
     "metadata": {},
     "output_type": "display_data"
    }
   ],
   "source": [
    "df['Season'].value_counts().plot(kind='bar',figsize=(15,6))\n",
    "plt.title('Terrorist Attacks by Season')\n",
    "plt.ylabel('Attacks Count')"
   ]
  },
  {
   "cell_type": "markdown",
   "metadata": {},
   "source": [
    "### Surpringly, terrorist attacks are more likely to happen during winter as we can tell from the above bar plot."
   ]
  },
  {
   "cell_type": "markdown",
   "metadata": {},
   "source": [
    "### We will perform hypothesis testing to further examine the influence of seasons in the occurance of terrorist attacks. Two sample groups - terrorist attacks happened in each state in the United States during Summer vs Winter, will be used for comparison."
   ]
  },
  {
   "cell_type": "code",
   "execution_count": 74,
   "metadata": {
    "scrolled": true
   },
   "outputs": [
    {
     "data": {
      "text/plain": [
       "Text(0,0.5,'Frequency')"
      ]
     },
     "execution_count": 74,
     "metadata": {},
     "output_type": "execute_result"
    },
    {
     "data": {
      "image/png": "[encoded data removed]",
      "text/plain": [
       "<Figure size 432x288 with 1 Axes>"
      ]
     },
     "metadata": {},
     "output_type": "display_data"
    }
   ],
   "source": [
    "Summer_Sample = df['State'][(df.Country == 'United States') & (df.Season == 'Summer')].value_counts()\n",
    "plt.hist(Summer_Sample,label='Summer',alpha=0.5,color='Green')\n",
    "Winter_Sample = df['State'][(df.Country == 'United States') & (df.Season == 'Winter')].value_counts()\n",
    "plt.hist(Winter_Sample,label='Winter',alpha=0.5,color='Purple')\n",
    "plt.legend(loc='upper right')\n",
    "plt.xlabel('Terrorist Attacks per state')\n",
    "plt.ylabel('Frequency')"
   ]
  },
  {
   "cell_type": "markdown",
   "metadata": {},
   "source": [
    "### From the histogram above, we can tell that both samples are not normally distributed and are highly skewed. Let's conduct Mann-Whitney test for those two sample groups."
   ]
  },
  {
   "cell_type": "code",
   "execution_count": 75,
   "metadata": {
    "scrolled": true
   },
   "outputs": [
    {
     "name": "stdout",
     "output_type": "stream",
     "text": [
      "15.022727272727273\n",
      "14.680851063829786\n",
      "28.329858220746722\n",
      "28.4903541136437\n"
     ]
    }
   ],
   "source": [
    "# examine the mean and standard deviation of both sample groups.\n",
    "print(Summer_Sample.mean())\n",
    "print(Winter_Sample.mean())\n",
    "print(Summer_Sample.std())\n",
    "print(Winter_Sample.std())"
   ]
  },
  {
   "cell_type": "code",
   "execution_count": 77,
   "metadata": {},
   "outputs": [
    {
     "name": "stdout",
     "output_type": "stream",
     "text": [
      "MannwhitneyuResult(statistic=1079.5, pvalue=0.719927565519585)\n"
     ]
    }
   ],
   "source": [
    "from scipy.stats import mannwhitneyu\n",
    "print(mannwhitneyu(Summer_Sample,Winter_Sample,alternative='two-sided'))"
   ]
  },
  {
   "cell_type": "markdown",
   "metadata": {},
   "source": [
    "### The resulting high p-value indicates there is no significant difference for the state within the United States between the Winter and Summer groups. Hence, the seasons do not have statistically significant influence on the occurance of terrorist attacks."
   ]
  },
  {
   "cell_type": "markdown",
   "metadata": {},
   "source": [
    "# III. Further Research"
   ]
  },
  {
   "cell_type": "markdown",
   "metadata": {},
   "source": [
    "## This analysis only touches the surface of the dataset. There is not any data science algorithm which was used to analyze the problems. We did not explore all the data field in this report. There are some more questions that need to be answered with the use of machine learning algorithm.  For example, where will the next terrorist attack be at?  Which social groups will the government need to look out for the possible terrorist attack? Data science techniques can be used to analyze this dataset and answer those questions."
   ]
  }
 ],
 "metadata": {
  "kernelspec": {
   "display_name": "Python 3",
   "language": "python",
   "name": "python3"
  },
  "language_info": {
   "codemirror_mode": {
    "name": "ipython",
    "version": 3
   },
   "file_extension": ".py",
   "mimetype": "text/x-python",
   "name": "python",
   "nbconvert_exporter": "python",
   "pygments_lexer": "ipython3",
   "version": "3.7.0"
  }
 },
 "nbformat": 4,
 "nbformat_minor": 2
}
