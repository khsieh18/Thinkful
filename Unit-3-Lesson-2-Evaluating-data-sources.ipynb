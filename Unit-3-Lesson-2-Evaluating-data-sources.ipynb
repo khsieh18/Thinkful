{
 "cells": [
  {
   "cell_type": "code",
   "execution_count": 1,
   "metadata": {},
   "outputs": [],
   "source": [
    "#Question 1\n",
    "# December 24th is during Christmas Holiday in Amsterdam.\n",
    "# revise the question to \"What are the  popular neighborhoods in Amsterdam during Chirstmas Holiday?\""
   ]
  },
  {
   "cell_type": "code",
   "execution_count": 2,
   "metadata": {},
   "outputs": [],
   "source": [
    "#Question 2\n",
    "# September 12, 2001 is the just one day after 911-attack at New York City.\n",
    "# revise the question to \"How do mental health service use vary after 911-attack between nearby and distant cities?\""
   ]
  },
  {
   "cell_type": "code",
   "execution_count": null,
   "metadata": {},
   "outputs": [],
   "source": [
    "#Question 3\n",
    "# The occupation of all of the surveyee is college studnet.\n",
    "# revise the question to \"What are the most common reasons \""
   ]
  }
 ],
 "metadata": {
  "kernelspec": {
   "display_name": "Python 3",
   "language": "python",
   "name": "python3"
  },
  "language_info": {
   "codemirror_mode": {
    "name": "ipython",
    "version": 3
   },
   "file_extension": ".py",
   "mimetype": "text/x-python",
   "name": "python",
   "nbconvert_exporter": "python",
   "pygments_lexer": "ipython3",
   "version": "3.7.0"
  }
 },
 "nbformat": 4,
 "nbformat_minor": 2
}
