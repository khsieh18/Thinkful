{
 "cells": [
  {
   "cell_type": "code",
   "execution_count": null,
   "metadata": {},
   "outputs": [],
   "source": [
    "# Event A - car behind door 1\n",
    "# Event B - goat behind door 2\n",
    "# P(A|B) = P(A,B) / P(B)\n",
    "# P(A,B) = P(A) * P(B|A) = 1/3 * 1/2 = 1/6\n",
    "# P(B) = P(B,A) + P(B,~A)\n",
    "#      = P(B|A) * P(A) + P(B|~A) * P(~A)\n",
    "#      = 1/2 * 1/3 + 1* 1/3 + 0 * 1/3\n",
    "#      = 3/6\n",
    "#\n",
    "# P(A|B) = (1/6) / (3/6) = 1/3 (the probability of not switchinig door)\n",
    "# P(~A|B) = 1 - P(A|B) = 1 - 1/3 = 2/3 (the probability of switing door)\n",
    "\n",
    "#I would switch door, since the probability is twice higher than not switing the door"
   ]
  }
 ],
 "metadata": {
  "kernelspec": {
   "display_name": "Python 3",
   "language": "python",
   "name": "python3"
  },
  "language_info": {
   "codemirror_mode": {
    "name": "ipython",
    "version": 3
   },
   "file_extension": ".py",
   "mimetype": "text/x-python",
   "name": "python",
   "nbconvert_exporter": "python",
   "pygments_lexer": "ipython3",
   "version": "3.7.0"
  }
 },
 "nbformat": 4,
 "nbformat_minor": 2
}
